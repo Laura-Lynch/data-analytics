{
 "cells": [
  {
   "cell_type": "code",
   "execution_count": 57,
   "id": "d0848c34-309c-4264-9854-b722880147a0",
   "metadata": {},
   "outputs": [],
   "source": [
    "from bs4 import BeautifulSoup\n",
    "import pandas as pd\n",
    "\n",
    "def getTableRowsFromHtml(filename):\n",
    "    page = open(filename)\n",
    "    soup = BeautifulSoup(page.read())\n",
    "\n",
    "    table = soup.table\n",
    "    table_rows = table.find_all('tr')\n",
    "    \n",
    "    return table_rows"
   ]
  },
  {
   "cell_type": "code",
   "execution_count": 58,
   "id": "6293c9bd-5f05-4d5a-8eb8-8aa89e5ad7ae",
   "metadata": {},
   "outputs": [],
   "source": [
    "table_rows = getTableRowsFromHtml(\"./temperatures.html\")\n",
    "\n",
    "data = {}\n",
    "for tr in table_rows:\n",
    "    td = tr.find_all('td')\n",
    "    if len(td) < 1 : continue\n",
    "    country_name = td[0].text\n",
    "    temp_celcius = float(td[1].text)\n",
    "\n",
    "    data[country_name] = temp_celcius\n",
    "    \n",
    "data_frame = pd.DataFrame(data.items(), columns=['Country', 'Temp(Celcius)'])\n",
    "\n",
    "data_frame.to_csv('temperatures.csv', index=False)"
   ]
  },
  {
   "cell_type": "code",
   "execution_count": 60,
   "id": "0df5a062-a922-4a6e-b5ca-7e2d5dba477c",
   "metadata": {},
   "outputs": [],
   "source": [
    "table_rows = getTableRowsFromHtml(\"./country_salary.html\")\n",
    "\n",
    "data = {}\n",
    "for tr in table_rows:\n",
    "    td = tr.find_all('td')\n",
    "    if len(td) < 1 : continue\n",
    "    country_name = td[1].text\n",
    "    salary = int(td[2].text.replace(' $', '').replace(',', ''))\n",
    "    \n",
    "    data[country_name] = salary\n",
    "    \n",
    "data_frame = pd.DataFrame(data.items(), columns=['Country', 'Salary'])\n",
    "\n",
    "data_frame.to_csv('salary.csv', index=False)"
   ]
  },
  {
   "cell_type": "code",
   "execution_count": null,
   "id": "51231ada-4f89-4755-bff9-53999deb8efa",
   "metadata": {},
   "outputs": [],
   "source": []
  }
 ],
 "metadata": {
  "kernelspec": {
   "display_name": "Python 3 (ipykernel)",
   "language": "python",
   "name": "python3"
  },
  "language_info": {
   "codemirror_mode": {
    "name": "ipython",
    "version": 3
   },
   "file_extension": ".py",
   "mimetype": "text/x-python",
   "name": "python",
   "nbconvert_exporter": "python",
   "pygments_lexer": "ipython3",
   "version": "3.9.7"
  }
 },
 "nbformat": 4,
 "nbformat_minor": 5
}
